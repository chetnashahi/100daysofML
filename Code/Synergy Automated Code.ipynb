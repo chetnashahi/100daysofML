{
 "cells": [
  {
   "cell_type": "markdown",
   "metadata": {},
   "source": [
    "# Productivity Dashboard Automate"
   ]
  },
  {
   "cell_type": "code",
   "execution_count": 1,
   "metadata": {},
   "outputs": [],
   "source": [
    "import pandas as pd\n",
    "import numpy as np\n",
    "import datetime"
   ]
  },
  {
   "cell_type": "code",
   "execution_count": 2,
   "metadata": {},
   "outputs": [],
   "source": [
    "snow1=pd.read_excel(\"C:/Users/c0s041o/Downloads/snow.xlsx\")\n",
    "mcc1=pd.read_excel(\"C:/Users/c0s041o/Documents/Evg Report/Manage Incomplete Contingency Sept India.xlsx\")\n",
    "mapping1=pd.read_excel(\"C:/Users/c0s041o/Documents/Evg Report/Push_Sept_India .xlsx\", sheet_name='Sheet2')\n",
    "push_india=pd.read_excel(\"C:/Users/c0s041o/Documents/Evg Report/Push_Sept_India .xlsx\", sheet_name='Sheet1')\n",
    "gta=pd.read_excel(\"C:/Users/c0s041o/Downloads/GTA 26.3.xlsx\")\n",
    "hr_service=pd.read_excel(\"C:/Users/c0s041o/Documents/Evg Report/Copy of HR Service (version 1).xlsb.xlsx\")\n",
    "snow1['Closed calc date']=pd.to_datetime(snow1['closed_at'], dayfirst=True)\n",
    "#, encoding='iso-8859-1'\n",
    "#snow1.head()"
   ]
  },
  {
   "cell_type": "code",
   "execution_count": 3,
   "metadata": {},
   "outputs": [],
   "source": [
    "#rewrite function to automate try\n",
    "def func1(a):\n",
    "    x= str(a)\n",
    "    if (x>=\"2020-05-09\"  and x<\"2020-05-16\"):\n",
    "        t='WK15-FY21'\n",
    "    elif (x>=\"2020-05-16\"  and x<\"2020-05-23\"):\n",
    "        t= 'WK16-FY21'\n",
    "    elif (x>='2020-05-23' and x<'2020-05-30' ):\n",
    "        t='WK17-FY21'\n",
    "    elif (x>='2020-05-30' and x<'2020-06-06'): \n",
    "        t='WK18-FY21'\n",
    "    elif (x>='2020-06-06' and x<'2020-06-13' ):\n",
    "        t='WK19-FY21'\n",
    "    elif (x>='2020-06-13' and x<'2020-06-20' ):\n",
    "        t='WK20-FY21'\n",
    "    elif (x>='2020-06-20' and x<'2020-06-27' ):\n",
    "        t='WK21-FY21'\n",
    "    elif (x>='2020-06-27' and x<'2020-07-04' ):\n",
    "        t='WK22-FY21'\n",
    "    elif (x>='2020-07-04' and x<'2020-07-11' ):\n",
    "        t= 'WK23-FY21'\n",
    "    elif (x>='2020-07-11' and x<'2020-07-18' ):\n",
    "        t= 'WK24-FY21'\n",
    "    elif (x>='2020-07-18' and x<'2020-07-25' ):\n",
    "        t= 'WK25-FY21'\n",
    "    elif (x>='2020-07-25' and x<'2020-08-01' ):\n",
    "        t='WK26-FY21'\n",
    "    elif (x>='2020-08-01' and x<'2020-08-08' ):\n",
    "        t= 'WK27-FY21'\n",
    "    elif (x>='2020-08-08' and x<'2020-08-15' ):\n",
    "        t= 'WK28-FY21'\n",
    "    elif (x>='2020-08-15' and x<'2020-08-22'):\n",
    "        t= 'WK29-FY21'\n",
    "    elif (x>='2020-08-22' and x<'2020-08-29'):\n",
    "        t='WK30-FY21'\n",
    "    elif (x>='2020-08-29' and x<'2020-09-05' ):\n",
    "        t='WK31-FY21'\n",
    "    elif (x>='2020-09-05' and x<'2020-09-12' ):\n",
    "        t='WK32-FY21'\n",
    "    elif (x>='2020-09-12' and x<'2020-09-19'):\n",
    "        t='WK33-FY21'\n",
    "    elif (x>='2020-09-19' and x<'2020-09-26' ):\n",
    "        t= 'WK34-FY21'\n",
    "    elif (x>='2020-09-26' and x<'2020-10-03' ):\n",
    "        t='WK35-FY21'\n",
    "    elif (x>='2020-10-03' and x<'2020-10-10' ):\n",
    "        t='WK36-FY21'\n",
    "    elif (x>='2020-10-10' and x<'2020-10-17' ):\n",
    "        t='WK37-FY21'\n",
    "    else:\n",
    "        t='Null'\n",
    "    return(t)"
   ]
  },
  {
   "cell_type": "markdown",
   "metadata": {},
   "source": [
    "def func1(x):\n",
    "    a='2020-05-09'\n",
    "    if (x>=a and x<a+7):\n",
    "        s=15\n",
    "    else:\n",
    "        s=s+1\n",
    "        a=a+7\n",
    "        "
   ]
  },
  {
   "cell_type": "markdown",
   "metadata": {},
   "source": [
    "##TRIA;\n",
    "\n",
    "a='2020-05-30'\n",
    "x='2020-05-09'\n",
    "from datetime import datetime,timedelta\n",
    "xd = datetime.strptime(x, '%Y-%M-%d')\n",
    "d = datetime.strptime(a, '%Y-%M-%d')\n",
    "end= d +timedelta(days=7)\n",
    "t=d-xd\n",
    "m=str(t).split()\n",
    "r=int(m[0])/7\n",
    "\n",
    "print(m[0],t,r)\n"
   ]
  },
  {
   "cell_type": "code",
   "execution_count": 4,
   "metadata": {},
   "outputs": [],
   "source": [
    "snow1['Walmart Week']= snow1['Closed calc date'].apply(func1)\n",
    "\n",
    "snow1['Join New ID']= np.where(\n",
    "    snow1['assigned_to.u_walmart_user_id']==\"\",\n",
    "    snow1['sys_updated_by'] ,\n",
    "    snow1['assigned_to.u_walmart_user_id'])\n",
    "\n",
    "snow1['Associate Unique Key']= snow1['assigned_to']+ \"(\"+snow1['Join New ID']+\")\"+\"|\"+ snow1['Walmart Week']\n",
    "\n",
    "snow1['Manager Again']= np.where(\n",
    "    snow1['Associate Unique Key']==\"()\",\n",
    "    snow1['closed_by.manager'] ,\n",
    "    snow1['assigned_to.manager'])\n",
    "\n",
    "snow1['Name Again']= np.where(\n",
    "    snow1['Associate Unique Key']==\"()\",\n",
    "    snow1['closed_by'] ,\n",
    "    snow1['assigned_to'])\n",
    "\n",
    "snow1['County Again']= np.where(\n",
    "    snow1['Associate Unique Key']==\"()\",\n",
    "    snow1['closed_by.country'] ,\n",
    "    snow1['assigned_to.country'])"
   ]
  },
  {
   "cell_type": "code",
   "execution_count": 5,
   "metadata": {},
   "outputs": [],
   "source": [
    "#Merge servicenow and mapping sheet\n",
    "snow_mapping_df=pd.merge(snow1, mapping1, how='left', left_on=['Join New ID'], right_on=['User ID'])"
   ]
  },
  {
   "cell_type": "code",
   "execution_count": 6,
   "metadata": {},
   "outputs": [
    {
     "data": {
      "text/plain": [
       "Index(['number', 'assigned_to', 'assigned_to.u_walmart_user_id',\n",
       "       'assigned_to.manager', 'state', 'sla', 'assignment_group', 'hr_service',\n",
       "       'sys_created_on', 'sys_created_by', 'closed_at', 'closed_by',\n",
       "       'time_worked', 'sys_updated_on', 'sys_mod_count', 'details',\n",
       "       'sys_updated_by', 'opened_by', 'opened_for', 'opened_for.department',\n",
       "       'opened_for.department.u_banner', 'opened_for.department.u_market',\n",
       "       'opened_for.department.u_region', 'made_sla', 'u_effective_date',\n",
       "       'assigned_to.country', 'closed_by.country', 'closed_by.manager',\n",
       "       'Closed calc date', 'Walmart Week', 'Join New ID',\n",
       "       'Associate Unique Key', 'Manager Again', 'Name Again', 'County Again',\n",
       "       'Associate Name', 'User ID', 'Manager'],\n",
       "      dtype='object')"
      ]
     },
     "execution_count": 6,
     "metadata": {},
     "output_type": "execute_result"
    }
   ],
   "source": [
    "snow_mapping_df.columns"
   ]
  },
  {
   "cell_type": "code",
   "execution_count": 7,
   "metadata": {},
   "outputs": [],
   "source": [
    "\n",
    "snow_mapping_df['New Manager'] = np.where(\n",
    "    snow_mapping_df['County Again']=='India',\n",
    "    snow_mapping_df['Manager'],\n",
    "    snow_mapping_df['Manager Again'])"
   ]
  },
  {
   "cell_type": "code",
   "execution_count": 8,
   "metadata": {},
   "outputs": [],
   "source": [
    "snow_mapping_df['Associate Name'] = np.where(\n",
    "    snow_mapping_df['County Again']=='India',\n",
    "    snow_mapping_df['Associate Name'],\n",
    "    snow_mapping_df['Name Again'])"
   ]
  },
  {
   "cell_type": "code",
   "execution_count": 9,
   "metadata": {},
   "outputs": [],
   "source": [
    "#Data full load crash\n",
    "#Manager again"
   ]
  },
  {
   "cell_type": "code",
   "execution_count": 10,
   "metadata": {},
   "outputs": [],
   "source": [
    "mcc1['Walmart Week']= mcc1['Opened'].apply(func1)\n",
    "mcc1['closed_by.country']='India'"
   ]
  },
  {
   "cell_type": "code",
   "execution_count": 11,
   "metadata": {},
   "outputs": [],
   "source": [
    "#Merge CCC & mapping file\n",
    "mcc_mapping_df=pd.merge(mcc1, mapping1, how='left', left_on=['Join New ID'], right_on=['User ID'])"
   ]
  },
  {
   "cell_type": "code",
   "execution_count": 12,
   "metadata": {},
   "outputs": [],
   "source": [
    "push_mapping_df=pd.merge(push_india, mapping1, how='left', left_on=['Join New ID'], right_on=['User ID'])"
   ]
  },
  {
   "cell_type": "code",
   "execution_count": 13,
   "metadata": {},
   "outputs": [
    {
     "data": {
      "text/plain": [
       "Index(['number', 'hr_service', 'assigned_to', 'state', 'Walmart Week',\n",
       "       'Join New ID', 'Manager2', 'closed_by.country', 'closed_by.manager',\n",
       "       'Name Again', 'Associate Name', 'User ID', 'Manager'],\n",
       "      dtype='object')"
      ]
     },
     "execution_count": 13,
     "metadata": {},
     "output_type": "execute_result"
    }
   ],
   "source": [
    "push_mapping_df.columns"
   ]
  },
  {
   "cell_type": "code",
   "execution_count": 14,
   "metadata": {},
   "outputs": [],
   "source": [
    "snow_mapping_df_1= snow_mapping_df[['number','hr_service','Name Again','state','Walmart Week','Join New ID','New Manager','County Again','closed_by.manager', 'Name Again','Name Again','Join New ID','New Manager'] ]"
   ]
  },
  {
   "cell_type": "code",
   "execution_count": 15,
   "metadata": {},
   "outputs": [],
   "source": [
    "snow_mapping_df_1.columns=['number', 'hr_service', 'assigned_to','state', 'Walmart Week',\n",
    "       'Join New ID', 'Manager2', 'closed_by.country', 'closed_by.manager',\n",
    "       'Name Again', 'Associate Name', 'User ID', 'Manager']"
   ]
  },
  {
   "cell_type": "code",
   "execution_count": 16,
   "metadata": {},
   "outputs": [
    {
     "data": {
      "text/plain": [
       "Index(['Number', 'hr_service', 'State', 'Short description', 'Assigned to',\n",
       "       'Assignment group', 'Opened', 'Opened for', 'Subject person', 'SLA',\n",
       "       'Task percent complete', 'Opened by', 'Manager_x', 'Join New ID',\n",
       "       'closed_by', 'assigned_to', 'assigned_to.manager', 'Walmart Week',\n",
       "       'closed_by.country', 'Associate Name', 'User ID', 'Manager_y'],\n",
       "      dtype='object')"
      ]
     },
     "execution_count": 16,
     "metadata": {},
     "output_type": "execute_result"
    }
   ],
   "source": [
    "mcc_mapping_df.columns\n"
   ]
  },
  {
   "cell_type": "code",
   "execution_count": 17,
   "metadata": {},
   "outputs": [],
   "source": [
    "mcc_mapping_df_1= mcc_mapping_df[['Number', 'hr_service', 'assigned_to','State', 'Walmart Week',\n",
    "       'Join New ID', 'Manager_x', 'closed_by.country', 'Manager_y',\n",
    "       'Associate Name', 'Associate Name', 'User ID', 'Manager_y']]\n",
    "mcc_mapping_df_1.columns=['number', 'hr_service', 'assigned_to','state', 'Walmart Week',\n",
    "       'Join New ID', 'Manager2', 'closed_by.country', 'closed_by.manager',\n",
    "       'Name Again', 'Associate Name', 'User ID', 'Manager']"
   ]
  },
  {
   "cell_type": "code",
   "execution_count": 18,
   "metadata": {},
   "outputs": [
    {
     "data": {
      "text/plain": [
       "Index(['number', 'hr_service', 'assigned_to', 'state', 'Walmart Week',\n",
       "       'Join New ID', 'Manager2', 'closed_by.country', 'closed_by.manager',\n",
       "       'Name Again', 'Associate Name', 'User ID', 'Manager'],\n",
       "      dtype='object')"
      ]
     },
     "execution_count": 18,
     "metadata": {},
     "output_type": "execute_result"
    }
   ],
   "source": [
    "push_mapping_df.columns"
   ]
  },
  {
   "cell_type": "code",
   "execution_count": 19,
   "metadata": {},
   "outputs": [],
   "source": [
    "main2 = pd.concat([snow_mapping_df_1,snow_mapping_df_1,push_mapping_df])"
   ]
  },
  {
   "cell_type": "code",
   "execution_count": 22,
   "metadata": {},
   "outputs": [],
   "source": [
    "#g = main2.groupby(['Associate Name','County Again','assignment_group','hr_service','New Manager','Manager Again','Join New ID','Walmart Week'])['Join New ID'].value_counts()\n",
    "\n",
    "main2['Volume'] = main2.groupby(['Associate Name','closed_by.country','hr_service','Manager2','Manager','Join New ID','Walmart Week'])['Join New ID'].transform('count')\n",
    "main2[['Associate Name','closed_by.country','hr_service','Manager2','Manager','Join New ID','Walmart Week','Volume']]"
   ]
  },
  {
   "cell_type": "code",
   "execution_count": 310,
   "metadata": {},
   "outputs": [
    {
     "data": {
      "text/plain": [
       "County Again  assignment_group  hr_service  New Manager  Manager Again  Join New ID  Walmart Week\n",
       "                                                                                                     NaN\n",
       "Name: Join New ID, dtype: object"
      ]
     },
     "execution_count": 310,
     "metadata": {},
     "output_type": "execute_result"
    }
   ],
   "source": [
    "main3['Volume'].head()"
   ]
  },
  {
   "cell_type": "code",
   "execution_count": 23,
   "metadata": {},
   "outputs": [],
   "source": [
    "gta['Walmart Week']= gta['Walmart Week'].apply(lambda x: x.upper())\n",
    "gta['Walmart User ID']= gta['Walmart User ID'].apply(lambda x: x.lower())"
   ]
  },
  {
   "cell_type": "code",
   "execution_count": 312,
   "metadata": {},
   "outputs": [
    {
     "data": {
      "text/plain": [
       "Index(['number', 'hr_service', 'assigned_to', 'state', 'Walmart Week',\n",
       "       'Join New ID', 'Manager2', 'closed_by.country', 'closed_by.manager',\n",
       "       'Name Again', 'Associate Name', 'User ID', 'Manager', 'Volume'],\n",
       "      dtype='object')"
      ]
     },
     "execution_count": 312,
     "metadata": {},
     "output_type": "execute_result"
    }
   ],
   "source": [
    "main2.columns"
   ]
  },
  {
   "cell_type": "code",
   "execution_count": 313,
   "metadata": {},
   "outputs": [
    {
     "data": {
      "text/plain": [
       "Index(['HR Service', 'Time'], dtype='object')"
      ]
     },
     "execution_count": 313,
     "metadata": {},
     "output_type": "execute_result"
    }
   ],
   "source": [
    "hr_service.columns"
   ]
  },
  {
   "cell_type": "code",
   "execution_count": 314,
   "metadata": {},
   "outputs": [],
   "source": [
    "main_gta_df=pd.merge(main2, gta, how='left', left_on=['Walmart Week','Join New ID'], right_on=['Walmart Week','Walmart User ID'])"
   ]
  },
  {
   "cell_type": "code",
   "execution_count": 315,
   "metadata": {},
   "outputs": [],
   "source": [
    "maingta_hrservice_df=pd.merge(main_gta_df, hr_service, how='left', left_on=['hr_service'], right_on=['HR Service'])"
   ]
  },
  {
   "cell_type": "code",
   "execution_count": 331,
   "metadata": {},
   "outputs": [
    {
     "data": {
      "text/plain": [
       "Index(['number', 'hr_service', 'assigned_to', 'state', 'Walmart Week',\n",
       "       'Join New ID', 'Manager2', 'closed_by.country', 'closed_by.manager',\n",
       "       'Name Again', 'Associate Name', 'User ID', 'Manager_x', 'Volume',\n",
       "       'First name', 'Last name', 'Name Format', 'Walmart User ID',\n",
       "       'Manager_y', 'Date Range ', 'Unique Format Manager ', 'Name',\n",
       "       'Unique Week Associate ', 'Total Hours', 'PTO ', 'BRV', 'HR Service',\n",
       "       'Time', 'Time Worked HR'],\n",
       "      dtype='object')"
      ]
     },
     "execution_count": 331,
     "metadata": {},
     "output_type": "execute_result"
    }
   ],
   "source": [
    "maingta_hrservice_df.columns"
   ]
  },
  {
   "cell_type": "code",
   "execution_count": 327,
   "metadata": {},
   "outputs": [],
   "source": [
    "maingta_hrservice_df['Time Worked HR']=maingta_hrservice_df['Time']*maingta_hrservice_df['Volume']*24"
   ]
  },
  {
   "cell_type": "code",
   "execution_count": 344,
   "metadata": {},
   "outputs": [],
   "source": [
    "maingta_hrservice_df['Max_time_worked_HR']=maingta_hrservice_df.groupby(['Associate Name','closed_by.country','hr_service','Manager2','Join New ID','Walmart Week'])['Time Worked HR'].transform(max)\n",
    "maingta_hrservice_df['Max_time']=maingta_hrservice_df.groupby(['Associate Name','closed_by.country','hr_service','Manager2','Join New ID','Walmart Week'])['Time'].transform(max)\n",
    "maingta_hrservice_df['Max_Volume']=maingta_hrservice_df.groupby(['Associate Name','closed_by.country','hr_service','Manager2','Join New ID','Walmart Week'])['Volume'].transform(max)\n",
    "maingta_hrservice_df['Max_PTO']=maingta_hrservice_df.groupby(['Associate Name','closed_by.country','hr_service','Manager2','Join New ID','Walmart Week'])['PTO '].transform(max)\n",
    "maingta_hrservice_df['Max_Total Hours']=maingta_hrservice_df.groupby(['Associate Name','closed_by.country','hr_service','Manager2','Join New ID','Walmart Week'])['Total Hours'].transform(max)\n",
    "#maingta_hrservice_df[['Associate Name','closed_by.country','hr_service','Manager2','Manager','Join New ID','Walmart Week','Volume']]\n",
    "y=maingta_hrservice_df[['Associate Name','closed_by.country','hr_service','Manager2','Join New ID','Walmart Week','Max_time_worked_HR','Max_PTO','Max_Total Hours','Max_time','Max_Volume']]"
   ]
  },
  {
   "cell_type": "code",
   "execution_count": 346,
   "metadata": {},
   "outputs": [
    {
     "name": "stderr",
     "output_type": "stream",
     "text": [
      "<ipython-input-346-a202473e4a7c>:1: SettingWithCopyWarning: \n",
      "A value is trying to be set on a copy of a slice from a DataFrame\n",
      "\n",
      "See the caveats in the documentation: https://pandas.pydata.org/pandas-docs/stable/user_guide/indexing.html#returning-a-view-versus-a-copy\n",
      "  y.drop_duplicates(inplace = True)\n"
     ]
    }
   ],
   "source": [
    "y.drop_duplicates(inplace = True) \n",
    "y.to_excel (r'C:/Users/c0s041o/Downloads/export_dataframe1.xlsx', sheet_name= 'Main',index = False, header=True)"
   ]
  }
 ],
 "metadata": {
  "kernelspec": {
   "display_name": "Python 3",
   "language": "python",
   "name": "python3"
  },
  "language_info": {
   "codemirror_mode": {
    "name": "ipython",
    "version": 3
   },
   "file_extension": ".py",
   "mimetype": "text/x-python",
   "name": "python",
   "nbconvert_exporter": "python",
   "pygments_lexer": "ipython3",
   "version": "3.8.3"
  }
 },
 "nbformat": 4,
 "nbformat_minor": 4
}
