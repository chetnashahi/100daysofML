{
  "nbformat": 4,
  "nbformat_minor": 0,
  "metadata": {
    "colab": {
      "name": "Untitled4.ipynb",
      "provenance": []
    },
    "kernelspec": {
      "name": "python3",
      "display_name": "Python 3"
    }
  },
  "cells": [
    {
      "cell_type": "markdown",
      "metadata": {
        "id": "Df1S75-fwfrn"
      },
      "source": [
        "# **Simple Linear Regression:** DPhi\r\n",
        "The objective is to use linear regression to understand how years of experience impact Salary."
      ]
    },
    {
      "cell_type": "code",
      "metadata": {
        "id": "S-AXYYB_wdw3"
      },
      "source": [
        "# importing packages\r\n",
        "import numpy as np # to perform calculations \r\n",
        "import pandas as pd # to read data\r\n",
        "import matplotlib.pyplot as plt # to visualise\r\n",
        "from sklearn import linear_model"
      ],
      "execution_count": 2,
      "outputs": []
    },
    {
      "cell_type": "code",
      "metadata": {
        "id": "Q8h1gyXNwjfV"
      },
      "source": [
        "#Loading the salary dataset\r\n",
        "data = pd.read_csv('https://raw.githubusercontent.com/dphi-official/Linear_Regression_Introduction/master/Salary_Data.csv')"
      ],
      "execution_count": 3,
      "outputs": []
    },
    {
      "cell_type": "code",
      "metadata": {
        "colab": {
          "base_uri": "https://localhost:8080/",
          "height": 202
        },
        "id": "bEGtZW3Awli9",
        "outputId": "5c2073dc-9375-41ed-a89a-eefa8ed96d85"
      },
      "source": [
        "data.head()"
      ],
      "execution_count": 4,
      "outputs": [
        {
          "output_type": "execute_result",
          "data": {
            "text/html": [
              "<div>\n",
              "<style scoped>\n",
              "    .dataframe tbody tr th:only-of-type {\n",
              "        vertical-align: middle;\n",
              "    }\n",
              "\n",
              "    .dataframe tbody tr th {\n",
              "        vertical-align: top;\n",
              "    }\n",
              "\n",
              "    .dataframe thead th {\n",
              "        text-align: right;\n",
              "    }\n",
              "</style>\n",
              "<table border=\"1\" class=\"dataframe\">\n",
              "  <thead>\n",
              "    <tr style=\"text-align: right;\">\n",
              "      <th></th>\n",
              "      <th>YearsExperience</th>\n",
              "      <th>Salary</th>\n",
              "    </tr>\n",
              "  </thead>\n",
              "  <tbody>\n",
              "    <tr>\n",
              "      <th>0</th>\n",
              "      <td>1.1</td>\n",
              "      <td>39343.0</td>\n",
              "    </tr>\n",
              "    <tr>\n",
              "      <th>1</th>\n",
              "      <td>1.3</td>\n",
              "      <td>46205.0</td>\n",
              "    </tr>\n",
              "    <tr>\n",
              "      <th>2</th>\n",
              "      <td>1.5</td>\n",
              "      <td>37731.0</td>\n",
              "    </tr>\n",
              "    <tr>\n",
              "      <th>3</th>\n",
              "      <td>2.0</td>\n",
              "      <td>43525.0</td>\n",
              "    </tr>\n",
              "    <tr>\n",
              "      <th>4</th>\n",
              "      <td>2.2</td>\n",
              "      <td>39891.0</td>\n",
              "    </tr>\n",
              "  </tbody>\n",
              "</table>\n",
              "</div>"
            ],
            "text/plain": [
              "   YearsExperience   Salary\n",
              "0              1.1  39343.0\n",
              "1              1.3  46205.0\n",
              "2              1.5  37731.0\n",
              "3              2.0  43525.0\n",
              "4              2.2  39891.0"
            ]
          },
          "metadata": {
            "tags": []
          },
          "execution_count": 4
        }
      ]
    },
    {
      "cell_type": "markdown",
      "metadata": {
        "id": "mrHSX7HYOsUl"
      },
      "source": [
        "# **Plotting the Data**\r\n",
        "Let’s plot our data points on a 2-D graph to eyeball our dataset(get a rough overview) and see if we can manually find any relationship between the data."
      ]
    },
    {
      "cell_type": "code",
      "metadata": {
        "colab": {
          "base_uri": "https://localhost:8080/",
          "height": 283
        },
        "id": "uffKTC4nNha6",
        "outputId": "14d06980-fc53-471b-f186-89274e58d30e"
      },
      "source": [
        "# Scatter plot helps in visualising the data distribution\r\n",
        "plt.plot(data.YearsExperience, data.Salary,'rx')"
      ],
      "execution_count": 5,
      "outputs": [
        {
          "output_type": "execute_result",
          "data": {
            "text/plain": [
              "[<matplotlib.lines.Line2D at 0x7f92a5b82908>]"
            ]
          },
          "metadata": {
            "tags": []
          },
          "execution_count": 5
        },
        {
          "output_type": "display_data",
          "data": {
            "image/png": "[encoded data removed]",
            "text/plain": [
              "<Figure size 432x288 with 1 Axes>"
            ]
          },
          "metadata": {
            "tags": [],
            "needs_background": "light"
          }
        }
      ]
    },
    {
      "cell_type": "markdown",
      "metadata": {
        "id": "V9CvKBMMO_-i"
      },
      "source": [
        "As you can see, there is a clear relationship between the years of experience and salary.\r\n",
        "\r\n",
        "# **Setting variables**\r\n",
        "Our next step is to divide the data into “attributes” and “labels” or as you've already known as input and target variables.\r\n",
        "\r\n",
        "In our dataset, we only have two columns. We want to predict the Salary depending upon the Years of Experience recorded. Therefore our attribute set will consist of the “YearsExperience” column which is stored in the X variable, and the label will be the “Salary” column which is stored in y variable."
      ]
    },
    {
      "cell_type": "code",
      "metadata": {
        "id": "7U5ad89zwxbo"
      },
      "source": [
        "X=data['YearsExperience'].values.reshape(-1,1)\r\n",
        "Y=data['Salary'].values.reshape(-1,1)\r\n"
      ],
      "execution_count": 6,
      "outputs": []
    },
    {
      "cell_type": "markdown",
      "metadata": {
        "id": "IT6wumXdPb-e"
      },
      "source": [
        "\r\n",
        "# **Splitting the data**\r\n",
        "Next, we split 80% of the data to the training set while 20% of the data to test set using below code. The test_size variable is where we actually specify the proportion of the test set.\r\n",
        "\r\n",
        "By passing our X and y variables into the train_test_split method, we are able to capture the splits in data by assigning 4 variables to the result."
      ]
    },
    {
      "cell_type": "code",
      "metadata": {
        "id": "Z_qkdhjtPn9F"
      },
      "source": [
        "\r\n",
        "# import SK Learn train test split\r\n",
        "from sklearn.model_selection import train_test_split \r\n",
        "\r\n",
        "# Assign variables to capture train test split output\r\n",
        "X_train, X_test, y_train, y_test = train_test_split(X, Y, test_size=0.3, random_state=47)"
      ],
      "execution_count": 7,
      "outputs": []
    },
    {
      "cell_type": "markdown",
      "metadata": {
        "id": "PL5lV8WPP3SD"
      },
      "source": [
        "# **Understanding the working of Linear Regression**\r\n",
        "The term “linearity” in algebra refers to a linear relationship between two or more variables. If we draw this relationship in a two-dimensional space (between two variables), we get a straight line.\r\n",
        "\r\n",
        "If we plot the independent variable (x) on the x-axis and dependent variable (y) on the y-axis, linear regression gives us a straight line that \"best fits\" the data points.It’s impossible to connect all the marks with a straight line, so you use a best fitting line.\r\n",
        "\r\n",
        "The equation for this line would be the result of your simple linear regression(Remember the equation y= b0 + b1*x that we just derived?). The regression finds the best fitting line.\r\n",
        "\r\n",
        "Now, how do you find the best fitting line? Since our data points(values of x and y) will remain constant for a particular dataset, we can only alter b0 and b1.\r\n",
        "\r\n",
        "Our objective is to find the values of b0 and b1 that will best fit this data.\r\n",
        "\r\n",
        "These 2 variables/coefficients are actually called **hyperparameters**. In machine learning, a hyperparameter is a parameter whose value is used to control the learning process. And we must always try to find some optimal parameters while building a machine learning model.\r\n",
        "\r\n",
        "This line is your **regression model**.\r\n",
        "\r\n",
        "To perform Linear Regression quickly, we will be using the library scikit-learn. If you don’t have it already you can install it using pip:\r\n",
        "\r\n",
        "pip install scikit-learn\r\n",
        "# **Training our model**\r\n",
        "After splitting the data into training and testing sets, finally, the time is to train our algorithm. Firstly, importing of sklearn.linear_model is required for us to access LinearRegression. It then needs to be instantiated and model fit to our training data. This is seen below."
      ]
    },
    {
      "cell_type": "code",
      "metadata": {
        "colab": {
          "base_uri": "https://localhost:8080/"
        },
        "id": "ip87BcemQQvh",
        "outputId": "b8248acc-2eeb-408e-b91b-a8e079b76b3d"
      },
      "source": [
        "reg= linear_model.LinearRegression()\r\n",
        "#fit model to our training data i.e learn coefficients\r\n",
        "reg.fit(X_train, y_train)"
      ],
      "execution_count": 9,
      "outputs": [
        {
          "output_type": "execute_result",
          "data": {
            "text/plain": [
              "LinearRegression(copy_X=True, fit_intercept=True, n_jobs=None, normalize=False)"
            ]
          },
          "metadata": {
            "tags": []
          },
          "execution_count": 9
        }
      ]
    },
    {
      "cell_type": "markdown",
      "metadata": {
        "id": "Kfx4LGj_Qdu9"
      },
      "source": [
        "\r\n",
        "# **Interpreting Coefficients**\r\n",
        "The coefficients(b0 and b1) will allow us to model our equation with values and find the best fit line. The linear_regressor variable (assigned to a LinearRegression object), is able to have the intercept and coefficients extracted, using the code below."
      ]
    },
    {
      "cell_type": "code",
      "metadata": {
        "colab": {
          "base_uri": "https://localhost:8080/"
        },
        "id": "eehn7NHcx_s5",
        "outputId": "32f90152-bd02-4fad-e1be-fb8bd66ec485"
      },
      "source": [
        "# prints y-intercept\r\n",
        "print(reg.intercept_)\r\n",
        "\r\n",
        "# prints the coefficient\r\n",
        "print(reg.coef_)"
      ],
      "execution_count": 10,
      "outputs": [
        {
          "output_type": "stream",
          "text": [
            "[25789.06076797]\n",
            "[[9479.09167874]]\n"
          ],
          "name": "stdout"
        }
      ]
    },
    {
      "cell_type": "markdown",
      "metadata": {
        "id": "v8wChMhfS6UO"
      },
      "source": [
        "The intercept will be your b0 value; and coefficient will be b1.\r\n",
        "\r\n",
        "# **Making predictions based on your model**\r\n",
        "Now that we have trained our algorithm, it’s time to make some predictions. To do so, we will use our test data and see how accurately our algorithm predicts the salaries.\r\n",
        "\r\n",
        "Making predictions based on your model is as simple as using the code below: passing the predict method your test data. This will return predicted values of y given the new test X data."
      ]
    },
    {
      "cell_type": "code",
      "metadata": {
        "id": "97hVrjPRyHWy"
      },
      "source": [
        "y_pred = reg.predict(X_test)  # make predictions"
      ],
      "execution_count": 11,
      "outputs": []
    },
    {
      "cell_type": "code",
      "metadata": {
        "colab": {
          "base_uri": "https://localhost:8080/",
          "height": 279
        },
        "id": "yzn7znNhxd7D",
        "outputId": "fa41bd46-f096-429c-93b7-7916bb15a179"
      },
      "source": [
        "plt.xlabel('Years of Experience')\r\n",
        "plt.ylabel('Salary')\r\n",
        "plt.plot(X_test, y_test,'rx')\r\n",
        "plt.plot(X_test, y_pred, color='black')\r\n",
        "plt.show()"
      ],
      "execution_count": 12,
      "outputs": [
        {
          "output_type": "display_data",
          "data": {
            "image/png": "[encoded data removed]",
            "text/plain": [
              "<Figure size 432x288 with 1 Axes>"
            ]
          },
          "metadata": {
            "tags": [],
            "needs_background": "light"
          }
        }
      ]
    },
    {
      "cell_type": "markdown",
      "metadata": {
        "id": "ki5LjnsQTYwX"
      },
      "source": [
        "As you can see, the algorithm has drawn a line that passes through the maximum test data points and has the minimum distance from the others. This line is known as the \"best-fit\" or the regression line.\r\n",
        "\r\n",
        "Since this line has a positive slope, we can say that the salary increases as no. of years of experience increase."
      ]
    },
    {
      "cell_type": "markdown",
      "metadata": {
        "id": "iEJCMo0zTatF"
      },
      "source": [
        "Using this line, you can even compute the salaries for the years of experience not present in the dataset by finding the corresponding value of y on the line."
      ]
    },
    {
      "cell_type": "markdown",
      "metadata": {
        "id": "Z9J5lSOXTlf-"
      },
      "source": [
        "# **Model Evaluation**\r\n",
        "There are three primary metrics used to evaluate linear models. These are: Mean absolute error (MAE), Mean squared error (MSE), or Root mean squared error (RMSE)."
      ]
    },
    {
      "cell_type": "code",
      "metadata": {
        "colab": {
          "base_uri": "https://localhost:8080/"
        },
        "id": "ZCis1UCTTgbX",
        "outputId": "933c32e5-2197-47d4-9c52-7e3576179ad8"
      },
      "source": [
        "\r\n",
        "# import metrics library\r\n",
        "from sklearn import metrics\r\n",
        "\r\n",
        "# print result of MAE\r\n",
        "print(metrics.mean_absolute_error(y_test, y_pred))\r\n",
        "\r\n",
        "#print result of MSE\r\n",
        "print(metrics.mean_squared_error(y_test, y_pred))\r\n",
        "\r\n",
        "#print result of RMSE\r\n",
        "print(np.sqrt(metrics.mean_squared_error(y_test, y_pred)))"
      ],
      "execution_count": 13,
      "outputs": [
        {
          "output_type": "stream",
          "text": [
            "2450.548521354498\n",
            "9961725.24601648\n",
            "3156.2200883361224\n"
          ],
          "name": "stdout"
        }
      ]
    }
  ]
}