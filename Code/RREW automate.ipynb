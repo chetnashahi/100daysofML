{
 "cells": [
  {
   "cell_type": "markdown",
   "metadata": {},
   "source": [
    "# RREW Automated Code"
   ]
  },
  {
   "cell_type": "code",
   "execution_count": null,
   "metadata": {},
   "outputs": [],
   "source": [
    "import pandas as pd\n",
    "\n",
    "sheet_dict={}\n",
    "##Trial\n",
    "sheet_list=['Go Get','Cielo- candidates','Utility Internals','LEAD Internals']\n",
    "for i in sheet_list:\n",
    "    sheet_dict[i]=pd.read_excel(\"C:/Users/c0s041o/Downloads/RREW Consolidated Data (5).xlsx\", sheet_name=i)\n",
    "    "
   ]
  },
  {
   "cell_type": "code",
   "execution_count": null,
   "metadata": {},
   "outputs": [],
   "source": [
    "sheet_dict['Go Get']\n",
    "# tried to generate index column`\n",
    "go_get_df['index_col'] = range(1, len(go_get_df) + 1)\n",
    "#reset_index()+1\n",
    "#command to remove warnings\n",
    "go_get_df=pd.DataFrame(data=sheet_dict['Go Get'])\n",
    "go_get_df_new= go_get_df[['Market','Ext Lead Need','Ext Utility Need','Int Lead Need','Int Utility Need']]\n",
    "##TRIAL\n",
    "#go_get_df_new_2 = pd.concat([go_get_df_new[:]]*4, ignore_index=True)\n",
    "#go_get_df_new_2['Candidate Index']=go_get_df_new_2.index.values\n",
    "#go_get_df_new_2['Candidate Type1']=go_get_df_new_2['Candidate Index'].apply(lambda x: 'External' if x<=63 else 'Internal')\n",
    "#go_get_df_new_2['Job Profile 1']=go_get_df_new_2['Candidate Index'].apply(lambda x: 'Lead' if x<32 or (x>63 and x<96) else 'Utility' )\n",
    "#go_get_df_new_2['Candidate Type5']=go_get_df_new_2['Ext Lead Need'].apply(lambda x: func1(x))\n",
    "#go_get_df_new_2['Candidate Type1']=go_get_df_new_2['Ext Lead Need'].apply(func1())"
   ]
  },
  {
   "cell_type": "code",
   "execution_count": null,
   "metadata": {},
   "outputs": [],
   "source": [
    "go_get_df_new\n",
    "\n",
    "go_get_df_extlead= go_get_df_new[['Market','Ext Lead Need']]\n",
    "go_get_df_extutil= go_get_df_new[['Market','Ext Utility Need']]\n",
    "go_get_df_intlead= go_get_df_new[['Market','Int Lead Need']]\n",
    "go_get_df_intutil= go_get_df_new[['Market','Int Utility Need']]\n",
    "\n",
    "go_get_df_extlead['Candidate Type1'] ='External'\n",
    "go_get_df_extutil['Candidate Type1'] ='External'\n",
    "go_get_df_intlead['Candidate Type1']='Internal'\n",
    "go_get_df_intutil['Candidate Type1']='Internal'\n",
    "go_get_df_extlead['Job Profile 1']='Lead'\n",
    "go_get_df_extutil['Job Profile 1']='Utility'\n",
    "go_get_df_intlead['Job Profile 1']='Lead'\n",
    "go_get_df_intutil['Job Profile 1']='Utility'\n",
    "go_get_df_extlead['Column1']=go_get_df_extlead['Ext Lead Need']\n",
    "go_get_df_extutil['Column1']=go_get_df_extutil['Ext Utility Need']\n",
    "go_get_df_intlead['Column1']=go_get_df_intlead['Int Lead Need']\n",
    "go_get_df_intutil['Column1']=go_get_df_intutil['Int Utility Need']\n",
    "\n",
    "union1=pd.concat([go_get_df_extlead,go_get_df_extutil,go_get_df_intlead,go_get_df_intutil])"
   ]
  },
  {
   "cell_type": "code",
   "execution_count": null,
   "metadata": {},
   "outputs": [],
   "source": [
    "## Combined the 4 duplicate files and below is the final output for Go Get\n",
    "\n",
    "union2= union1[['Market','Candidate Type1','Job Profile 1','Column1']]\n",
    "union2\n",
    "\n",
    "## Code to combine Cielo , Utility & Lead files\n",
    "\n",
    "cielo_df=pd.DataFrame(data=sheet_dict['Cielo- candidates'])\n",
    "utility_df=pd.DataFrame(data=sheet_dict['Utility Internals'])\n",
    "lead_df=pd.DataFrame(data=sheet_dict['LEAD Internals'])\n",
    "cielo_df.drop(['Future Date?'], axis=1,inplace=True)\n",
    "\n",
    "#Filtering out the statuses as per requirement\n",
    "status= ['Scheduled for Start','Contingency','Offer in Progress','Started']\n",
    "cielo_df_1 = cielo_df['Current Status'].isin(status)\n",
    "#reset index\n",
    "cielo_df_2 = cielo_df[cielo_df_1].reset_index()\n",
    "cielo_df_2.drop(['index'],axis=1, inplace=True)\n",
    "\n",
    "cielo_df_2\n",
    "\n",
    "utility_df_1= utility_df[['Candidates Selected','Markets','Candidate Status','Job Profile','Hire Date','Candidate Type']]\n",
    "utility_df_1.rename(columns = {'Candidates Selected': 'Name', 'Markets':'Market','Candidate Status':'Current Status','Hire Date':'Start Date'},inplace = True)\n",
    "utility_df_1.head()\n",
    "##try\n",
    "utility_df_1.columns=['Name','Markets','Candidate Status','Job Profile','Hire Date','Candidate Type']\n",
    "\n",
    "lead_df_1= lead_df[['Candidates Selected','Markets','Candidate Status','Job Profile','Hire Date','Candidate Type']]\n",
    "lead_df_1.rename(columns = {'Candidates Selected': 'Name', 'Markets':'Market','Candidate Status':'Current Status','Hire Date':'Start Date'},inplace = True)\n",
    "lead_df_1.head()\n",
    "\n",
    "main2 = pd.concat([cielo_df_2,utility_df_1,lead_df_1])\n",
    "main3 =main2.reset_index()\n",
    "main3.drop(['index'], axis=1, inplace= True)\n",
    "main3"
   ]
  },
  {
   "cell_type": "code",
   "execution_count": null,
   "metadata": {},
   "outputs": [],
   "source": [
    "#### didnt work. Only one worksheet gets named\n",
    "union2.to_excel (r'C:/Users/c0s041o/Downloads/export_dataframe.xlsx', sheet_name= 'Go Get',index = False, header=True)\n",
    "main3.to_excel (r'C:/Users/c0s041o/Downloads/export_dataframe.xlsx', sheet_name= 'Main',index = False, header=True)\n",
    "\n",
    "writer = pd.ExcelWriter(r'C:/Users/c0s041o/Downloads/export_dataframe.xlsx', engine='xlsxwriter')\n",
    "\n",
    "union2.to_excel(writer, sheet_name='Go Get', index= False)\n",
    "\n",
    "main3.to_excel(writer, sheet_name='Union', index= False)"
   ]
  },
  {
   "cell_type": "code",
   "execution_count": null,
   "metadata": {},
   "outputs": [],
   "source": []
  },
  {
   "cell_type": "code",
   "execution_count": 185,
   "metadata": {},
   "outputs": [],
   "source": [
    "writer.save()"
   ]
  }
 ],
 "metadata": {
  "kernelspec": {
   "display_name": "Python 3",
   "language": "python",
   "name": "python3"
  },
  "language_info": {
   "codemirror_mode": {
    "name": "ipython",
    "version": 3
   },
   "file_extension": ".py",
   "mimetype": "text/x-python",
   "name": "python",
   "nbconvert_exporter": "python",
   "pygments_lexer": "ipython3",
   "version": "3.8.3"
  }
 },
 "nbformat": 4,
 "nbformat_minor": 4
}
