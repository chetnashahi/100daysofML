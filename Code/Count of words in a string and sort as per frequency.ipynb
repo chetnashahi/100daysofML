{
 "cells": [
  {
   "cell_type": "code",
   "execution_count": null,
   "metadata": {},
   "outputs": [],
   "source": [
    "##find frequency of words & sort it as per frequency"
   ]
  },
  {
   "cell_type": "code",
   "execution_count": 42,
   "metadata": {},
   "outputs": [],
   "source": [
    "import pandas as pd\n",
    "import numpy as np\n",
    "import nltk\n",
    "from nltk.corpus import stopwords\n",
    "from nltk.tokenize import word_tokenize \n"
   ]
  },
  {
   "cell_type": "code",
   "execution_count": 43,
   "metadata": {},
   "outputs": [],
   "source": [
    "def converttodiction(word1):\n",
    "    wordfreq=[word1.count(i) for i in word1]\n",
    "    return(dict(list(zip(word1,wordfreq))))"
   ]
  },
  {
   "cell_type": "code",
   "execution_count": 44,
   "metadata": {},
   "outputs": [],
   "source": [
    "def wordsort(word2):\n",
    "    sort1=[(word2[i],i) for i in word2]\n",
    "    sort1.sort()\n",
    "    sort1.reverse()\n",
    "    return sort1"
   ]
  },
  {
   "cell_type": "code",
   "execution_count": null,
   "metadata": {},
   "outputs": [],
   "source": []
  },
  {
   "cell_type": "code",
   "execution_count": 45,
   "metadata": {},
   "outputs": [],
   "source": [
    "def removeStopwords(word3, stopwords):\n",
    "    return [w for w in wordlist if w not in stopwords]"
   ]
  },
  {
   "cell_type": "code",
   "execution_count": 57,
   "metadata": {},
   "outputs": [
    {
     "name": "stdout",
     "output_type": "stream",
     "text": [
      "repeat the word and see if that repeat word is what you need. if you dont need that word change it\n",
      "(3, 'word')\n",
      "(2, 'repeat')\n",
      "(1, 'see')\n",
      "(1, 'need.')\n",
      "(1, 'need')\n",
      "(1, 'dont')\n",
      "(1, 'change')\n"
     ]
    }
   ],
   "source": [
    "wordstring=\"Repeat the word and see if that repeat word is what you need. If you dont need that word change it\"\n",
    "stop_words = set(stopwords.words('english')) \n",
    "wordlist1=wordstring.lower()\n",
    "print(wordlist1)\n",
    "wordlist= wordlist1.split()\n",
    "h= removeStopwords(wordlist,stop_words)\n",
    "t= converttodiction(h)\n",
    "g=wordsort(t)\n",
    "\n",
    "\n",
    "for s in g: print(str(s))"
   ]
  },
  {
   "cell_type": "code",
   "execution_count": null,
   "metadata": {},
   "outputs": [],
   "source": []
  },
  {
   "cell_type": "code",
   "execution_count": null,
   "metadata": {},
   "outputs": [],
   "source": []
  },
  {
   "cell_type": "code",
   "execution_count": null,
   "metadata": {},
   "outputs": [],
   "source": []
  }
 ],
 "metadata": {
  "kernelspec": {
   "display_name": "Python 3",
   "language": "python",
   "name": "python3"
  },
  "language_info": {
   "codemirror_mode": {
    "name": "ipython",
    "version": 3
   },
   "file_extension": ".py",
   "mimetype": "text/x-python",
   "name": "python",
   "nbconvert_exporter": "python",
   "pygments_lexer": "ipython3",
   "version": "3.6.5"
  }
 },
 "nbformat": 4,
 "nbformat_minor": 2
}
