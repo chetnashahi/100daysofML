{
  "nbformat": 4,
  "nbformat_minor": 0,
  "metadata": {
    "colab": {
      "name": "Untitled1.ipynb",
      "provenance": []
    },
    "kernelspec": {
      "name": "python3",
      "display_name": "Python 3"
    }
  },
  "cells": [
    {
      "cell_type": "code",
      "metadata": {
        "id": "X2Ij24mWo22I"
      },
      "source": [
        "import pandas as pd \n",
        "url = 'https://drive.google.com/file/d/1QcKzIJlO6WRUH4IkrKAvDmBVEipXkeQb/view?usp=sharing'\n",
        "\n",
        "path = 'https://drive.google.com/uc?export=download&id='+url.split('/')[-2]\n",
        "\n",
        "data = pd.read_csv(path)"
      ],
      "execution_count": null,
      "outputs": []
    },
    {
      "cell_type": "code",
      "metadata": {
        "id": "owAqhu-qpLVD"
      },
      "source": [
        "pd.options.display.float_format = '{:,.4f}'.format"
      ],
      "execution_count": null,
      "outputs": []
    },
    {
      "cell_type": "code",
      "metadata": {
        "colab": {
          "base_uri": "https://localhost:8080/"
        },
        "id": "A94eBjWpNC4v",
        "outputId": "3c97a408-bedc-42d2-9230-919692c1d9b8"
      },
      "source": [
        "data.columns"
      ],
      "execution_count": null,
      "outputs": [
        {
          "output_type": "execute_result",
          "data": {
            "text/plain": [
              "Index(['VendorID', 'tpep_pickup_datetime', 'tpep_dropoff_datetime',\n",
              "       'passenger_count', 'PULocationID', 'DOLocationID', 'fare_amount'],\n",
              "      dtype='object')"
            ]
          },
          "metadata": {
            "tags": []
          },
          "execution_count": 14
        }
      ]
    },
    {
      "cell_type": "code",
      "metadata": {
        "colab": {
          "base_uri": "https://localhost:8080/"
        },
        "id": "4f6dEAa4Wui2",
        "outputId": "c3fdecce-447b-45c2-d042-3bea195ff7de"
      },
      "source": [
        "data.info()"
      ],
      "execution_count": null,
      "outputs": [
        {
          "output_type": "stream",
          "text": [
            "<class 'pandas.core.frame.DataFrame'>\n",
            "RangeIndex: 1243241 entries, 0 to 1243240\n",
            "Data columns (total 7 columns):\n",
            " #   Column                 Non-Null Count    Dtype  \n",
            "---  ------                 --------------    -----  \n",
            " 0   VendorID               1227632 non-null  float64\n",
            " 1   tpep_pickup_datetime   1243241 non-null  object \n",
            " 2   tpep_dropoff_datetime  1243241 non-null  object \n",
            " 3   passenger_count        1227632 non-null  float64\n",
            " 4   PULocationID           1243241 non-null  int64  \n",
            " 5   DOLocationID           1243241 non-null  int64  \n",
            " 6   fare_amount            1243241 non-null  float64\n",
            "dtypes: float64(3), int64(2), object(2)\n",
            "memory usage: 66.4+ MB\n"
          ],
          "name": "stdout"
        }
      ]
    },
    {
      "cell_type": "code",
      "metadata": {
        "colab": {
          "base_uri": "https://localhost:8080/",
          "height": 294
        },
        "id": "2y1WZvWdUcIz",
        "outputId": "5fc098bb-3edc-4b59-ef2e-45c5ae1ef22a"
      },
      "source": [
        "data.describe()"
      ],
      "execution_count": null,
      "outputs": [
        {
          "output_type": "execute_result",
          "data": {
            "text/html": [
              "<div>\n",
              "<style scoped>\n",
              "    .dataframe tbody tr th:only-of-type {\n",
              "        vertical-align: middle;\n",
              "    }\n",
              "\n",
              "    .dataframe tbody tr th {\n",
              "        vertical-align: top;\n",
              "    }\n",
              "\n",
              "    .dataframe thead th {\n",
              "        text-align: right;\n",
              "    }\n",
              "</style>\n",
              "<table border=\"1\" class=\"dataframe\">\n",
              "  <thead>\n",
              "    <tr style=\"text-align: right;\">\n",
              "      <th></th>\n",
              "      <th>VendorID</th>\n",
              "      <th>passenger_count</th>\n",
              "      <th>PULocationID</th>\n",
              "      <th>DOLocationID</th>\n",
              "      <th>fare_amount</th>\n",
              "    </tr>\n",
              "  </thead>\n",
              "  <tbody>\n",
              "    <tr>\n",
              "      <th>count</th>\n",
              "      <td>1,227,632.0000</td>\n",
              "      <td>1,227,632.0000</td>\n",
              "      <td>1,243,241.0000</td>\n",
              "      <td>1,243,241.0000</td>\n",
              "      <td>1,243,241.0000</td>\n",
              "    </tr>\n",
              "    <tr>\n",
              "      <th>mean</th>\n",
              "      <td>1.6768</td>\n",
              "      <td>1.5687</td>\n",
              "      <td>162.7453</td>\n",
              "      <td>160.7467</td>\n",
              "      <td>13.0298</td>\n",
              "    </tr>\n",
              "    <tr>\n",
              "      <th>std</th>\n",
              "      <td>0.4677</td>\n",
              "      <td>1.1818</td>\n",
              "      <td>66.1079</td>\n",
              "      <td>70.9818</td>\n",
              "      <td>12.9396</td>\n",
              "    </tr>\n",
              "    <tr>\n",
              "      <th>min</th>\n",
              "      <td>1.0000</td>\n",
              "      <td>0.0000</td>\n",
              "      <td>1.0000</td>\n",
              "      <td>1.0000</td>\n",
              "      <td>-1,238.0000</td>\n",
              "    </tr>\n",
              "    <tr>\n",
              "      <th>25%</th>\n",
              "      <td>1.0000</td>\n",
              "      <td>1.0000</td>\n",
              "      <td>125.0000</td>\n",
              "      <td>107.0000</td>\n",
              "      <td>6.0000</td>\n",
              "    </tr>\n",
              "    <tr>\n",
              "      <th>50%</th>\n",
              "      <td>2.0000</td>\n",
              "      <td>1.0000</td>\n",
              "      <td>161.0000</td>\n",
              "      <td>162.0000</td>\n",
              "      <td>9.0000</td>\n",
              "    </tr>\n",
              "    <tr>\n",
              "      <th>75%</th>\n",
              "      <td>2.0000</td>\n",
              "      <td>2.0000</td>\n",
              "      <td>233.0000</td>\n",
              "      <td>233.0000</td>\n",
              "      <td>14.0000</td>\n",
              "    </tr>\n",
              "    <tr>\n",
              "      <th>max</th>\n",
              "      <td>2.0000</td>\n",
              "      <td>9.0000</td>\n",
              "      <td>265.0000</td>\n",
              "      <td>265.0000</td>\n",
              "      <td>1,238.0000</td>\n",
              "    </tr>\n",
              "  </tbody>\n",
              "</table>\n",
              "</div>"
            ],
            "text/plain": [
              "            VendorID  passenger_count  ...   DOLocationID    fare_amount\n",
              "count 1,227,632.0000   1,227,632.0000  ... 1,243,241.0000 1,243,241.0000\n",
              "mean          1.6768           1.5687  ...       160.7467        13.0298\n",
              "std           0.4677           1.1818  ...        70.9818        12.9396\n",
              "min           1.0000           0.0000  ...         1.0000    -1,238.0000\n",
              "25%           1.0000           1.0000  ...       107.0000         6.0000\n",
              "50%           2.0000           1.0000  ...       162.0000         9.0000\n",
              "75%           2.0000           2.0000  ...       233.0000        14.0000\n",
              "max           2.0000           9.0000  ...       265.0000     1,238.0000\n",
              "\n",
              "[8 rows x 5 columns]"
            ]
          },
          "metadata": {
            "tags": []
          },
          "execution_count": 35
        }
      ]
    },
    {
      "cell_type": "code",
      "metadata": {
        "colab": {
          "base_uri": "https://localhost:8080/"
        },
        "id": "P9lYlITyTqD1",
        "outputId": "d1bca6a4-6548-4856-8295-3827910f1e23"
      },
      "source": [
        "#5\n",
        "data3=    data[((data['VendorID']==2.0000) &(data['fare_amount']< 13.0298) &  (data['passenger_count']> 5.0))]\n",
        "data3['PickUpDate'] = pd.to_datetime(data3['tpep_pickup_datetime']) \n",
        "data3['PickUpdayOfWeek'] = data3['PickUpDate'].dt.day_name()\n",
        "\n",
        "data3['DropOfDate'] = pd.to_datetime(data3['tpep_dropoff_datetime']) \n",
        "data3['DropOfdayOfWeek'] = data3['DropOfDate'].dt.day_name()\n",
        "\n",
        "data5= data3.value_counts(['PickUpdayOfWeek'])\n",
        "data5.sort_values()\n",
        "\n",
        "data6= data3.value_counts(['DropOfdayOfWeek'])\n",
        "data6.sort_values()"
      ],
      "execution_count": null,
      "outputs": [
        {
          "output_type": "stream",
          "text": [
            "/usr/local/lib/python3.6/dist-packages/ipykernel_launcher.py:3: SettingWithCopyWarning: \n",
            "A value is trying to be set on a copy of a slice from a DataFrame.\n",
            "Try using .loc[row_indexer,col_indexer] = value instead\n",
            "\n",
            "See the caveats in the documentation: https://pandas.pydata.org/pandas-docs/stable/user_guide/indexing.html#returning-a-view-versus-a-copy\n",
            "  This is separate from the ipykernel package so we can avoid doing imports until\n",
            "/usr/local/lib/python3.6/dist-packages/ipykernel_launcher.py:4: SettingWithCopyWarning: \n",
            "A value is trying to be set on a copy of a slice from a DataFrame.\n",
            "Try using .loc[row_indexer,col_indexer] = value instead\n",
            "\n",
            "See the caveats in the documentation: https://pandas.pydata.org/pandas-docs/stable/user_guide/indexing.html#returning-a-view-versus-a-copy\n",
            "  after removing the cwd from sys.path.\n",
            "/usr/local/lib/python3.6/dist-packages/ipykernel_launcher.py:6: SettingWithCopyWarning: \n",
            "A value is trying to be set on a copy of a slice from a DataFrame.\n",
            "Try using .loc[row_indexer,col_indexer] = value instead\n",
            "\n",
            "See the caveats in the documentation: https://pandas.pydata.org/pandas-docs/stable/user_guide/indexing.html#returning-a-view-versus-a-copy\n",
            "  \n",
            "/usr/local/lib/python3.6/dist-packages/ipykernel_launcher.py:7: SettingWithCopyWarning: \n",
            "A value is trying to be set on a copy of a slice from a DataFrame.\n",
            "Try using .loc[row_indexer,col_indexer] = value instead\n",
            "\n",
            "See the caveats in the documentation: https://pandas.pydata.org/pandas-docs/stable/user_guide/indexing.html#returning-a-view-versus-a-copy\n",
            "  import sys\n"
          ],
          "name": "stderr"
        },
        {
          "output_type": "execute_result",
          "data": {
            "text/plain": [
              "DropOfdayOfWeek\n",
              "Sunday             2505\n",
              "Thursday           2618\n",
              "Wednesday          2628\n",
              "Monday             2663\n",
              "Friday             2895\n",
              "Tuesday            3062\n",
              "Saturday           3072\n",
              "dtype: int64"
            ]
          },
          "metadata": {
            "tags": []
          },
          "execution_count": 75
        }
      ]
    },
    {
      "cell_type": "code",
      "metadata": {
        "id": "QhXJzZ5OWLUD"
      },
      "source": [
        "data.unique()"
      ],
      "execution_count": null,
      "outputs": []
    },
    {
      "cell_type": "code",
      "metadata": {
        "colab": {
          "base_uri": "https://localhost:8080/"
        },
        "id": "kW0NTVHjpV-8",
        "outputId": "da2ad08e-edc3-436e-cfd5-8e498af86702"
      },
      "source": [
        "pd.unique(data['passenger_count'])"
      ],
      "execution_count": null,
      "outputs": [
        {
          "output_type": "execute_result",
          "data": {
            "text/plain": [
              "array([ 1.,  2.,  3.,  6.,  4.,  5.,  0.,  8.,  7.,  9., nan])"
            ]
          },
          "metadata": {
            "tags": []
          },
          "execution_count": 49
        }
      ]
    },
    {
      "cell_type": "code",
      "metadata": {
        "colab": {
          "base_uri": "https://localhost:8080/"
        },
        "id": "CwUfrW8nNb1J",
        "outputId": "daaa155b-c36f-4779-d61e-ab855e2f5850"
      },
      "source": [
        "#3\n",
        "t=data.groupby(['PULocationID']).count()\n",
        "data1= data.value_counts(['PULocationID'])\n",
        "data1.sort_values().tail()"
      ],
      "execution_count": null,
      "outputs": [
        {
          "output_type": "execute_result",
          "data": {
            "text/plain": [
              "PULocationID\n",
              "186             44809\n",
              "236             48450\n",
              "161             49558\n",
              "237             52055\n",
              "132             53790\n",
              "dtype: int64"
            ]
          },
          "metadata": {
            "tags": []
          },
          "execution_count": 31
        }
      ]
    },
    {
      "cell_type": "code",
      "metadata": {
        "colab": {
          "base_uri": "https://localhost:8080/"
        },
        "id": "joQ-O1pyTinj",
        "outputId": "4a43ae04-59c3-4662-a5fb-c11d2493e8dc"
      },
      "source": [
        "data_new1= data.copy()\n",
        "data_new1['passenger_count'].fillna(data_new1['passenger_count'].median(), inplace= True)\n",
        "data_new1.median()"
      ],
      "execution_count": null,
      "outputs": [
        {
          "output_type": "execute_result",
          "data": {
            "text/plain": [
              "VendorID            2.0000\n",
              "passenger_count     1.0000\n",
              "PULocationID      161.0000\n",
              "DOLocationID      162.0000\n",
              "fare_amount         9.0000\n",
              "dtype: float64"
            ]
          },
          "metadata": {
            "tags": []
          },
          "execution_count": 86
        }
      ]
    },
    {
      "cell_type": "code",
      "metadata": {
        "colab": {
          "base_uri": "https://localhost:8080/"
        },
        "id": "uackvl_UyGbp",
        "outputId": "57946191-d60d-45b8-9ce2-5e9af5beb78f"
      },
      "source": [
        "data.isnull().sum()"
      ],
      "execution_count": null,
      "outputs": [
        {
          "output_type": "execute_result",
          "data": {
            "text/plain": [
              "VendorID                 15609\n",
              "tpep_pickup_datetime         0\n",
              "tpep_dropoff_datetime        0\n",
              "passenger_count          15609\n",
              "PULocationID                 0\n",
              "DOLocationID                 0\n",
              "fare_amount                  0\n",
              "dtype: int64"
            ]
          },
          "metadata": {
            "tags": []
          },
          "execution_count": 85
        }
      ]
    },
    {
      "cell_type": "code",
      "metadata": {
        "colab": {
          "base_uri": "https://localhost:8080/"
        },
        "id": "Gcjp8hN7ytSv",
        "outputId": "7988022f-9ad7-4f05-e059-0d1e3a7e3ac7"
      },
      "source": [
        "data_new1.median()"
      ],
      "execution_count": null,
      "outputs": [
        {
          "output_type": "execute_result",
          "data": {
            "text/plain": [
              "VendorID            2.0000\n",
              "passenger_count     1.0000\n",
              "PULocationID      161.0000\n",
              "DOLocationID      162.0000\n",
              "fare_amount         9.0000\n",
              "dtype: float64"
            ]
          },
          "metadata": {
            "tags": []
          },
          "execution_count": 88
        }
      ]
    },
    {
      "cell_type": "code",
      "metadata": {
        "colab": {
          "base_uri": "https://localhost:8080/"
        },
        "id": "wp578ORiy9SB",
        "outputId": "7291c54c-a869-4e3a-f24b-1b6ebff066fb"
      },
      "source": [
        "data.median()"
      ],
      "execution_count": null,
      "outputs": [
        {
          "output_type": "execute_result",
          "data": {
            "text/plain": [
              "VendorID            2.0000\n",
              "passenger_count     1.0000\n",
              "PULocationID      161.0000\n",
              "DOLocationID      162.0000\n",
              "fare_amount         9.0000\n",
              "dtype: float64"
            ]
          },
          "metadata": {
            "tags": []
          },
          "execution_count": 89
        }
      ]
    },
    {
      "cell_type": "code",
      "metadata": {
        "colab": {
          "base_uri": "https://localhost:8080/"
        },
        "id": "0QtaZgFszJfw",
        "outputId": "01480bb3-61c9-4403-8b42-5fb60b48f63d"
      },
      "source": [
        "data['passenger_count'].value_counts()"
      ],
      "execution_count": null,
      "outputs": [
        {
          "output_type": "execute_result",
          "data": {
            "text/plain": [
              "1.0000    847452\n",
              "2.0000    200439\n",
              "3.0000     56019\n",
              "5.0000     45092\n",
              "4.0000     31127\n",
              "6.0000     26542\n",
              "0.0000     20939\n",
              "7.0000        11\n",
              "8.0000         6\n",
              "9.0000         5\n",
              "Name: passenger_count, dtype: int64"
            ]
          },
          "metadata": {
            "tags": []
          },
          "execution_count": 91
        }
      ]
    },
    {
      "cell_type": "code",
      "metadata": {
        "colab": {
          "base_uri": "https://localhost:8080/"
        },
        "id": "nQuTe0MXzeD4",
        "outputId": "b0958585-c1ad-45c4-fd4f-5cf197d04a87"
      },
      "source": [
        "data_new2= data.copy()\n",
        "data_new2['passenger_count'].fillna(847452, inplace= True)\n",
        "data_new2.median()"
      ],
      "execution_count": null,
      "outputs": [
        {
          "output_type": "execute_result",
          "data": {
            "text/plain": [
              "VendorID            2.0000\n",
              "passenger_count     1.0000\n",
              "PULocationID      161.0000\n",
              "DOLocationID      162.0000\n",
              "fare_amount         9.0000\n",
              "dtype: float64"
            ]
          },
          "metadata": {
            "tags": []
          },
          "execution_count": 92
        }
      ]
    },
    {
      "cell_type": "code",
      "metadata": {
        "colab": {
          "base_uri": "https://localhost:8080/"
        },
        "id": "wgvEsgUe0K-a",
        "outputId": "46786034-12b5-4e63-c4fe-5b769a0d1b51"
      },
      "source": [
        "#4\n",
        "data['PickUpDate'] = pd.to_datetime(data['tpep_pickup_datetime']) \n",
        "data['PickUpdayOfWeek'] = data['PickUpDate'].dt.day_name()\n",
        "\n",
        "data['DropOfDate'] = pd.to_datetime(data['tpep_dropoff_datetime']) \n",
        "data['DropOfdayOfWeek'] = data['DropOfDate'].dt.day_name()\n",
        "\n",
        "data5= data.value_counts(['PickUpdayOfWeek'])\n",
        "data5.sort_values()\n",
        "\n",
        "data7= data.value_counts(['DropOfdayOfWeek'])\n",
        "data7.sort_values()\n",
        "\n"
      ],
      "execution_count": null,
      "outputs": [
        {
          "output_type": "execute_result",
          "data": {
            "text/plain": [
              "DropOfdayOfWeek\n",
              "Thursday           162053\n",
              "Sunday             165612\n",
              "Wednesday          169470\n",
              "Monday             179696\n",
              "Saturday           182314\n",
              "Friday             182810\n",
              "Tuesday            201286\n",
              "dtype: int64"
            ]
          },
          "metadata": {
            "tags": []
          },
          "execution_count": 96
        }
      ]
    },
    {
      "cell_type": "code",
      "metadata": {
        "colab": {
          "base_uri": "https://localhost:8080/",
          "height": 609
        },
        "id": "biukUNNi1Ng7",
        "outputId": "9d05f5ae-9395-4afc-b5ab-ba725b77afd1"
      },
      "source": [
        "import numpy as np\n",
        "data['date4'] =np.where(data['DropOfDate'].dt.date== data['PickUpDate'].dt.date ,0,1)\n",
        "data22=data[data['date4']==1]\n",
        "data22\n"
      ],
      "execution_count": null,
      "outputs": [
        {
          "output_type": "execute_result",
          "data": {
            "text/html": [
              "<div>\n",
              "<style scoped>\n",
              "    .dataframe tbody tr th:only-of-type {\n",
              "        vertical-align: middle;\n",
              "    }\n",
              "\n",
              "    .dataframe tbody tr th {\n",
              "        vertical-align: top;\n",
              "    }\n",
              "\n",
              "    .dataframe thead th {\n",
              "        text-align: right;\n",
              "    }\n",
              "</style>\n",
              "<table border=\"1\" class=\"dataframe\">\n",
              "  <thead>\n",
              "    <tr style=\"text-align: right;\">\n",
              "      <th></th>\n",
              "      <th>VendorID</th>\n",
              "      <th>tpep_pickup_datetime</th>\n",
              "      <th>tpep_dropoff_datetime</th>\n",
              "      <th>passenger_count</th>\n",
              "      <th>PULocationID</th>\n",
              "      <th>DOLocationID</th>\n",
              "      <th>fare_amount</th>\n",
              "      <th>PickUpDate</th>\n",
              "      <th>PickUpdayOfWeek</th>\n",
              "      <th>DropOfDate</th>\n",
              "      <th>DropOfdayOfWeek</th>\n",
              "      <th>date4</th>\n",
              "    </tr>\n",
              "  </thead>\n",
              "  <tbody>\n",
              "    <tr>\n",
              "      <th>1114</th>\n",
              "      <td>2.0000</td>\n",
              "      <td>2020-01-01 00:30:07</td>\n",
              "      <td>2020-01-02 00:28:18</td>\n",
              "      <td>1.0000</td>\n",
              "      <td>166</td>\n",
              "      <td>166</td>\n",
              "      <td>3.5000</td>\n",
              "      <td>2020-01-01 00:30:07</td>\n",
              "      <td>Wednesday</td>\n",
              "      <td>2020-01-02 00:28:18</td>\n",
              "      <td>Thursday</td>\n",
              "      <td>1</td>\n",
              "    </tr>\n",
              "    <tr>\n",
              "      <th>1473</th>\n",
              "      <td>2.0000</td>\n",
              "      <td>2020-01-01 00:53:40</td>\n",
              "      <td>2020-01-02 00:18:40</td>\n",
              "      <td>6.0000</td>\n",
              "      <td>246</td>\n",
              "      <td>261</td>\n",
              "      <td>17.5000</td>\n",
              "      <td>2020-01-01 00:53:40</td>\n",
              "      <td>Wednesday</td>\n",
              "      <td>2020-01-02 00:18:40</td>\n",
              "      <td>Thursday</td>\n",
              "      <td>1</td>\n",
              "    </tr>\n",
              "    <tr>\n",
              "      <th>1874</th>\n",
              "      <td>2.0000</td>\n",
              "      <td>2020-01-01 00:38:39</td>\n",
              "      <td>2020-01-02 00:37:22</td>\n",
              "      <td>2.0000</td>\n",
              "      <td>114</td>\n",
              "      <td>79</td>\n",
              "      <td>6.5000</td>\n",
              "      <td>2020-01-01 00:38:39</td>\n",
              "      <td>Wednesday</td>\n",
              "      <td>2020-01-02 00:37:22</td>\n",
              "      <td>Thursday</td>\n",
              "      <td>1</td>\n",
              "    </tr>\n",
              "    <tr>\n",
              "      <th>2664</th>\n",
              "      <td>2.0000</td>\n",
              "      <td>2020-01-01 00:13:41</td>\n",
              "      <td>2020-01-02 00:11:35</td>\n",
              "      <td>1.0000</td>\n",
              "      <td>263</td>\n",
              "      <td>113</td>\n",
              "      <td>15.0000</td>\n",
              "      <td>2020-01-01 00:13:41</td>\n",
              "      <td>Wednesday</td>\n",
              "      <td>2020-01-02 00:11:35</td>\n",
              "      <td>Thursday</td>\n",
              "      <td>1</td>\n",
              "    </tr>\n",
              "    <tr>\n",
              "      <th>3256</th>\n",
              "      <td>2.0000</td>\n",
              "      <td>2020-01-01 00:28:27</td>\n",
              "      <td>2020-01-02 00:26:48</td>\n",
              "      <td>3.0000</td>\n",
              "      <td>161</td>\n",
              "      <td>142</td>\n",
              "      <td>13.5000</td>\n",
              "      <td>2020-01-01 00:28:27</td>\n",
              "      <td>Wednesday</td>\n",
              "      <td>2020-01-02 00:26:48</td>\n",
              "      <td>Thursday</td>\n",
              "      <td>1</td>\n",
              "    </tr>\n",
              "    <tr>\n",
              "      <th>...</th>\n",
              "      <td>...</td>\n",
              "      <td>...</td>\n",
              "      <td>...</td>\n",
              "      <td>...</td>\n",
              "      <td>...</td>\n",
              "      <td>...</td>\n",
              "      <td>...</td>\n",
              "      <td>...</td>\n",
              "      <td>...</td>\n",
              "      <td>...</td>\n",
              "      <td>...</td>\n",
              "      <td>...</td>\n",
              "    </tr>\n",
              "    <tr>\n",
              "      <th>1242861</th>\n",
              "      <td>nan</td>\n",
              "      <td>2020-01-07 23:59:00</td>\n",
              "      <td>2020-01-08 00:23:00</td>\n",
              "      <td>nan</td>\n",
              "      <td>232</td>\n",
              "      <td>177</td>\n",
              "      <td>25.4300</td>\n",
              "      <td>2020-01-07 23:59:00</td>\n",
              "      <td>Tuesday</td>\n",
              "      <td>2020-01-08 00:23:00</td>\n",
              "      <td>Wednesday</td>\n",
              "      <td>1</td>\n",
              "    </tr>\n",
              "    <tr>\n",
              "      <th>1242864</th>\n",
              "      <td>nan</td>\n",
              "      <td>2020-01-07 23:54:00</td>\n",
              "      <td>2020-01-08 00:39:00</td>\n",
              "      <td>nan</td>\n",
              "      <td>186</td>\n",
              "      <td>86</td>\n",
              "      <td>73.8300</td>\n",
              "      <td>2020-01-07 23:54:00</td>\n",
              "      <td>Tuesday</td>\n",
              "      <td>2020-01-08 00:39:00</td>\n",
              "      <td>Wednesday</td>\n",
              "      <td>1</td>\n",
              "    </tr>\n",
              "    <tr>\n",
              "      <th>1242865</th>\n",
              "      <td>nan</td>\n",
              "      <td>2020-01-07 23:54:00</td>\n",
              "      <td>2020-01-08 00:39:00</td>\n",
              "      <td>nan</td>\n",
              "      <td>186</td>\n",
              "      <td>86</td>\n",
              "      <td>73.8300</td>\n",
              "      <td>2020-01-07 23:54:00</td>\n",
              "      <td>Tuesday</td>\n",
              "      <td>2020-01-08 00:39:00</td>\n",
              "      <td>Wednesday</td>\n",
              "      <td>1</td>\n",
              "    </tr>\n",
              "    <tr>\n",
              "      <th>1242878</th>\n",
              "      <td>nan</td>\n",
              "      <td>2020-01-07 23:56:00</td>\n",
              "      <td>2020-01-08 00:15:00</td>\n",
              "      <td>nan</td>\n",
              "      <td>137</td>\n",
              "      <td>212</td>\n",
              "      <td>37.1500</td>\n",
              "      <td>2020-01-07 23:56:00</td>\n",
              "      <td>Tuesday</td>\n",
              "      <td>2020-01-08 00:15:00</td>\n",
              "      <td>Wednesday</td>\n",
              "      <td>1</td>\n",
              "    </tr>\n",
              "    <tr>\n",
              "      <th>1242879</th>\n",
              "      <td>nan</td>\n",
              "      <td>2020-01-07 23:56:00</td>\n",
              "      <td>2020-01-08 00:15:00</td>\n",
              "      <td>nan</td>\n",
              "      <td>137</td>\n",
              "      <td>212</td>\n",
              "      <td>37.1500</td>\n",
              "      <td>2020-01-07 23:56:00</td>\n",
              "      <td>Tuesday</td>\n",
              "      <td>2020-01-08 00:15:00</td>\n",
              "      <td>Wednesday</td>\n",
              "      <td>1</td>\n",
              "    </tr>\n",
              "  </tbody>\n",
              "</table>\n",
              "<p>10547 rows × 12 columns</p>\n",
              "</div>"
            ],
            "text/plain": [
              "         VendorID tpep_pickup_datetime  ... DropOfdayOfWeek  date4\n",
              "1114       2.0000  2020-01-01 00:30:07  ...        Thursday      1\n",
              "1473       2.0000  2020-01-01 00:53:40  ...        Thursday      1\n",
              "1874       2.0000  2020-01-01 00:38:39  ...        Thursday      1\n",
              "2664       2.0000  2020-01-01 00:13:41  ...        Thursday      1\n",
              "3256       2.0000  2020-01-01 00:28:27  ...        Thursday      1\n",
              "...           ...                  ...  ...             ...    ...\n",
              "1242861       nan  2020-01-07 23:59:00  ...       Wednesday      1\n",
              "1242864       nan  2020-01-07 23:54:00  ...       Wednesday      1\n",
              "1242865       nan  2020-01-07 23:54:00  ...       Wednesday      1\n",
              "1242878       nan  2020-01-07 23:56:00  ...       Wednesday      1\n",
              "1242879       nan  2020-01-07 23:56:00  ...       Wednesday      1\n",
              "\n",
              "[10547 rows x 12 columns]"
            ]
          },
          "metadata": {
            "tags": []
          },
          "execution_count": 110
        }
      ]
    },
    {
      "cell_type": "code",
      "metadata": {
        "colab": {
          "base_uri": "https://localhost:8080/",
          "height": 202
        },
        "id": "IE9VLKcI4fGc",
        "outputId": "70e2a304-f6ab-4172-9dc6-bbd19eccf91d"
      },
      "source": [
        "import pandas as pd\r\n",
        "exam_data = pd.read_csv(\"https://raw.githubusercontent.com/dphi-official/Datasets/master/exam_scores.csv\")\r\n",
        "\r\n",
        "exam_data.head()"
      ],
      "execution_count": 2,
      "outputs": [
        {
          "output_type": "execute_result",
          "data": {
            "text/html": [
              "<div>\n",
              "<style scoped>\n",
              "    .dataframe tbody tr th:only-of-type {\n",
              "        vertical-align: middle;\n",
              "    }\n",
              "\n",
              "    .dataframe tbody tr th {\n",
              "        vertical-align: top;\n",
              "    }\n",
              "\n",
              "    .dataframe thead th {\n",
              "        text-align: right;\n",
              "    }\n",
              "</style>\n",
              "<table border=\"1\" class=\"dataframe\">\n",
              "  <thead>\n",
              "    <tr style=\"text-align: right;\">\n",
              "      <th></th>\n",
              "      <th>gender</th>\n",
              "      <th>race/ethnicity</th>\n",
              "      <th>parental level of education</th>\n",
              "      <th>lunch</th>\n",
              "      <th>test preparation course</th>\n",
              "      <th>math score</th>\n",
              "      <th>reading score</th>\n",
              "      <th>writing score</th>\n",
              "    </tr>\n",
              "  </thead>\n",
              "  <tbody>\n",
              "    <tr>\n",
              "      <th>0</th>\n",
              "      <td>male</td>\n",
              "      <td>group B</td>\n",
              "      <td>bachelor's degree</td>\n",
              "      <td>standard</td>\n",
              "      <td>none</td>\n",
              "      <td>74</td>\n",
              "      <td>68</td>\n",
              "      <td>67</td>\n",
              "    </tr>\n",
              "    <tr>\n",
              "      <th>1</th>\n",
              "      <td>female</td>\n",
              "      <td>group C</td>\n",
              "      <td>some college</td>\n",
              "      <td>standard</td>\n",
              "      <td>completed</td>\n",
              "      <td>58</td>\n",
              "      <td>68</td>\n",
              "      <td>66</td>\n",
              "    </tr>\n",
              "    <tr>\n",
              "      <th>2</th>\n",
              "      <td>male</td>\n",
              "      <td>group C</td>\n",
              "      <td>some college</td>\n",
              "      <td>free/reduced</td>\n",
              "      <td>none</td>\n",
              "      <td>66</td>\n",
              "      <td>65</td>\n",
              "      <td>65</td>\n",
              "    </tr>\n",
              "    <tr>\n",
              "      <th>3</th>\n",
              "      <td>female</td>\n",
              "      <td>group D</td>\n",
              "      <td>bachelor's degree</td>\n",
              "      <td>free/reduced</td>\n",
              "      <td>none</td>\n",
              "      <td>74</td>\n",
              "      <td>75</td>\n",
              "      <td>73</td>\n",
              "    </tr>\n",
              "    <tr>\n",
              "      <th>4</th>\n",
              "      <td>male</td>\n",
              "      <td>group D</td>\n",
              "      <td>some college</td>\n",
              "      <td>standard</td>\n",
              "      <td>none</td>\n",
              "      <td>78</td>\n",
              "      <td>77</td>\n",
              "      <td>71</td>\n",
              "    </tr>\n",
              "  </tbody>\n",
              "</table>\n",
              "</div>"
            ],
            "text/plain": [
              "   gender race/ethnicity  ... reading score writing score\n",
              "0    male        group B  ...            68            67\n",
              "1  female        group C  ...            68            66\n",
              "2    male        group C  ...            65            65\n",
              "3  female        group D  ...            75            73\n",
              "4    male        group D  ...            77            71\n",
              "\n",
              "[5 rows x 8 columns]"
            ]
          },
          "metadata": {
            "tags": []
          },
          "execution_count": 2
        }
      ]
    },
    {
      "cell_type": "code",
      "metadata": {
        "colab": {
          "base_uri": "https://localhost:8080/"
        },
        "id": "e56NCqhV44g8",
        "outputId": "ade67f60-0129-485d-ebee-beafc34c61db"
      },
      "source": [
        "#1\r\n",
        "exam_data['race/ethnicity'].value_counts()"
      ],
      "execution_count": 3,
      "outputs": [
        {
          "output_type": "execute_result",
          "data": {
            "text/plain": [
              "group C    294\n",
              "group D    280\n",
              "group B    211\n",
              "group E    152\n",
              "group A     63\n",
              "Name: race/ethnicity, dtype: int64"
            ]
          },
          "metadata": {
            "tags": []
          },
          "execution_count": 3
        }
      ]
    },
    {
      "cell_type": "code",
      "metadata": {
        "colab": {
          "base_uri": "https://localhost:8080/"
        },
        "id": "wHMpytX65IJ3",
        "outputId": "7e3b7c2b-f977-4f03-cc7b-7a8030a95e8c"
      },
      "source": [
        "exam_data['parental level of education'].value_counts()"
      ],
      "execution_count": 4,
      "outputs": [
        {
          "output_type": "execute_result",
          "data": {
            "text/plain": [
              "some college          226\n",
              "associate's degree    197\n",
              "high school           190\n",
              "some high school      181\n",
              "bachelor's degree     130\n",
              "master's degree        76\n",
              "Name: parental level of education, dtype: int64"
            ]
          },
          "metadata": {
            "tags": []
          },
          "execution_count": 4
        }
      ]
    },
    {
      "cell_type": "code",
      "metadata": {
        "colab": {
          "base_uri": "https://localhost:8080/"
        },
        "id": "W5vwZtuU5ROd",
        "outputId": "95259198-fca2-48a5-a259-3874cb389aad"
      },
      "source": [
        "exam_data['test preparation course'].value_counts()"
      ],
      "execution_count": 8,
      "outputs": [
        {
          "output_type": "execute_result",
          "data": {
            "text/plain": [
              "none         654\n",
              "completed    346\n",
              "Name: test preparation course, dtype: int64"
            ]
          },
          "metadata": {
            "tags": []
          },
          "execution_count": 8
        }
      ]
    },
    {
      "cell_type": "code",
      "metadata": {
        "colab": {
          "base_uri": "https://localhost:8080/"
        },
        "id": "D_WhL4ot5kl3",
        "outputId": "d6b005b0-43d6-4174-94a9-3197bbb4b054"
      },
      "source": [
        "correlation = exam_data['reading score'].corr(exam_data['writing score'])\r\n",
        "correlation"
      ],
      "execution_count": 12,
      "outputs": [
        {
          "output_type": "execute_result",
          "data": {
            "text/plain": [
              "0.9552112899448065"
            ]
          },
          "metadata": {
            "tags": []
          },
          "execution_count": 12
        }
      ]
    },
    {
      "cell_type": "code",
      "metadata": {
        "colab": {
          "base_uri": "https://localhost:8080/"
        },
        "id": "_gT6A_n77Qhj",
        "outputId": "e80341b3-1176-4248-9477-6252443b0138"
      },
      "source": [
        "exam_data['gender'].value_counts()"
      ],
      "execution_count": 13,
      "outputs": [
        {
          "output_type": "execute_result",
          "data": {
            "text/plain": [
              "female    502\n",
              "male      498\n",
              "Name: gender, dtype: int64"
            ]
          },
          "metadata": {
            "tags": []
          },
          "execution_count": 13
        }
      ]
    },
    {
      "cell_type": "code",
      "metadata": {
        "id": "cS53EU977ZpM"
      },
      "source": [
        "#8\r\n",
        "group_a= exam_data[exam_data['race/ethnicity']=='group A']\r\n",
        "course_completed= exam_data[exam_data['test preparation course']=='completed']"
      ],
      "execution_count": 16,
      "outputs": []
    },
    {
      "cell_type": "code",
      "metadata": {
        "colab": {
          "base_uri": "https://localhost:8080/"
        },
        "id": "ncpW9LKR8AEE",
        "outputId": "4aaff54e-8bc9-43d0-caee-ae32259e9ed6"
      },
      "source": [
        "group_a['test preparation course'].value_counts()"
      ],
      "execution_count": 17,
      "outputs": [
        {
          "output_type": "execute_result",
          "data": {
            "text/plain": [
              "none         42\n",
              "completed    21\n",
              "Name: test preparation course, dtype: int64"
            ]
          },
          "metadata": {
            "tags": []
          },
          "execution_count": 17
        }
      ]
    },
    {
      "cell_type": "code",
      "metadata": {
        "colab": {
          "base_uri": "https://localhost:8080/",
          "height": 283
        },
        "id": "ykpiFbVU8bMl",
        "outputId": "4f8f283b-2bcc-452b-c26c-339cb64cebb8"
      },
      "source": [
        "group_a[group_a['race/ethnicity']=='group A']['math score'].hist()"
      ],
      "execution_count": 21,
      "outputs": [
        {
          "output_type": "execute_result",
          "data": {
            "text/plain": [
              "<matplotlib.axes._subplots.AxesSubplot at 0x7fda6f76ceb8>"
            ]
          },
          "metadata": {
            "tags": []
          },
          "execution_count": 21
        },
        {
          "output_type": "display_data",
          "data": {
            "image/png": "[encoded data removed]",
            "text/plain": [
              "<Figure size 432x288 with 1 Axes>"
            ]
          },
          "metadata": {
            "tags": [],
            "needs_background": "light"
          }
        }
      ]
    },
    {
      "cell_type": "code",
      "metadata": {
        "colab": {
          "base_uri": "https://localhost:8080/",
          "height": 283
        },
        "id": "WrvZYuTU9k5V",
        "outputId": "3c331083-2ce2-408a-ed90-d7ad9f3d8ac0"
      },
      "source": [
        "group_a[group_a['test preparation course']=='completed']['math score'].hist()"
      ],
      "execution_count": 22,
      "outputs": [
        {
          "output_type": "execute_result",
          "data": {
            "text/plain": [
              "<matplotlib.axes._subplots.AxesSubplot at 0x7fda6f07f2b0>"
            ]
          },
          "metadata": {
            "tags": []
          },
          "execution_count": 22
        },
        {
          "output_type": "display_data",
          "data": {
            "image/png": "[encoded data removed]",
            "text/plain": [
              "<Figure size 432x288 with 1 Axes>"
            ]
          },
          "metadata": {
            "tags": [],
            "needs_background": "light"
          }
        }
      ]
    },
    {
      "cell_type": "code",
      "metadata": {
        "colab": {
          "base_uri": "https://localhost:8080/"
        },
        "id": "MqOwb-Zk-DdV",
        "outputId": "b7635d79-e659-47ec-d7f0-523dbd7577bf"
      },
      "source": [
        "course_completed['gender'].value_counts()"
      ],
      "execution_count": 23,
      "outputs": [
        {
          "output_type": "execute_result",
          "data": {
            "text/plain": [
              "male      184\n",
              "female    162\n",
              "Name: gender, dtype: int64"
            ]
          },
          "metadata": {
            "tags": []
          },
          "execution_count": 23
        }
      ]
    },
    {
      "cell_type": "code",
      "metadata": {
        "colab": {
          "base_uri": "https://localhost:8080/",
          "height": 415
        },
        "id": "Dp0j3qBg-RgA",
        "outputId": "5335dae4-9043-4cae-8dd6-732a0335d983"
      },
      "source": [
        "#10\r\n",
        "concat_data=pd.concat([group_a,course_completed])\r\n",
        "concat_data"
      ],
      "execution_count": 25,
      "outputs": [
        {
          "output_type": "execute_result",
          "data": {
            "text/html": [
              "<div>\n",
              "<style scoped>\n",
              "    .dataframe tbody tr th:only-of-type {\n",
              "        vertical-align: middle;\n",
              "    }\n",
              "\n",
              "    .dataframe tbody tr th {\n",
              "        vertical-align: top;\n",
              "    }\n",
              "\n",
              "    .dataframe thead th {\n",
              "        text-align: right;\n",
              "    }\n",
              "</style>\n",
              "<table border=\"1\" class=\"dataframe\">\n",
              "  <thead>\n",
              "    <tr style=\"text-align: right;\">\n",
              "      <th></th>\n",
              "      <th>gender</th>\n",
              "      <th>race/ethnicity</th>\n",
              "      <th>parental level of education</th>\n",
              "      <th>lunch</th>\n",
              "      <th>test preparation course</th>\n",
              "      <th>math score</th>\n",
              "      <th>reading score</th>\n",
              "      <th>writing score</th>\n",
              "    </tr>\n",
              "  </thead>\n",
              "  <tbody>\n",
              "    <tr>\n",
              "      <th>19</th>\n",
              "      <td>female</td>\n",
              "      <td>group A</td>\n",
              "      <td>some high school</td>\n",
              "      <td>free/reduced</td>\n",
              "      <td>none</td>\n",
              "      <td>58</td>\n",
              "      <td>80</td>\n",
              "      <td>68</td>\n",
              "    </tr>\n",
              "    <tr>\n",
              "      <th>80</th>\n",
              "      <td>male</td>\n",
              "      <td>group A</td>\n",
              "      <td>some high school</td>\n",
              "      <td>free/reduced</td>\n",
              "      <td>none</td>\n",
              "      <td>72</td>\n",
              "      <td>74</td>\n",
              "      <td>69</td>\n",
              "    </tr>\n",
              "    <tr>\n",
              "      <th>98</th>\n",
              "      <td>male</td>\n",
              "      <td>group A</td>\n",
              "      <td>some high school</td>\n",
              "      <td>standard</td>\n",
              "      <td>none</td>\n",
              "      <td>45</td>\n",
              "      <td>48</td>\n",
              "      <td>35</td>\n",
              "    </tr>\n",
              "    <tr>\n",
              "      <th>109</th>\n",
              "      <td>male</td>\n",
              "      <td>group A</td>\n",
              "      <td>bachelor's degree</td>\n",
              "      <td>free/reduced</td>\n",
              "      <td>none</td>\n",
              "      <td>47</td>\n",
              "      <td>55</td>\n",
              "      <td>53</td>\n",
              "    </tr>\n",
              "    <tr>\n",
              "      <th>128</th>\n",
              "      <td>male</td>\n",
              "      <td>group A</td>\n",
              "      <td>associate's degree</td>\n",
              "      <td>standard</td>\n",
              "      <td>completed</td>\n",
              "      <td>100</td>\n",
              "      <td>97</td>\n",
              "      <td>94</td>\n",
              "    </tr>\n",
              "    <tr>\n",
              "      <th>...</th>\n",
              "      <td>...</td>\n",
              "      <td>...</td>\n",
              "      <td>...</td>\n",
              "      <td>...</td>\n",
              "      <td>...</td>\n",
              "      <td>...</td>\n",
              "      <td>...</td>\n",
              "      <td>...</td>\n",
              "    </tr>\n",
              "    <tr>\n",
              "      <th>980</th>\n",
              "      <td>male</td>\n",
              "      <td>group E</td>\n",
              "      <td>associate's degree</td>\n",
              "      <td>standard</td>\n",
              "      <td>completed</td>\n",
              "      <td>95</td>\n",
              "      <td>84</td>\n",
              "      <td>92</td>\n",
              "    </tr>\n",
              "    <tr>\n",
              "      <th>982</th>\n",
              "      <td>male</td>\n",
              "      <td>group D</td>\n",
              "      <td>associate's degree</td>\n",
              "      <td>free/reduced</td>\n",
              "      <td>completed</td>\n",
              "      <td>84</td>\n",
              "      <td>82</td>\n",
              "      <td>84</td>\n",
              "    </tr>\n",
              "    <tr>\n",
              "      <th>986</th>\n",
              "      <td>female</td>\n",
              "      <td>group B</td>\n",
              "      <td>high school</td>\n",
              "      <td>free/reduced</td>\n",
              "      <td>completed</td>\n",
              "      <td>60</td>\n",
              "      <td>81</td>\n",
              "      <td>79</td>\n",
              "    </tr>\n",
              "    <tr>\n",
              "      <th>991</th>\n",
              "      <td>male</td>\n",
              "      <td>group B</td>\n",
              "      <td>master's degree</td>\n",
              "      <td>standard</td>\n",
              "      <td>completed</td>\n",
              "      <td>78</td>\n",
              "      <td>76</td>\n",
              "      <td>80</td>\n",
              "    </tr>\n",
              "    <tr>\n",
              "      <th>994</th>\n",
              "      <td>male</td>\n",
              "      <td>group C</td>\n",
              "      <td>master's degree</td>\n",
              "      <td>standard</td>\n",
              "      <td>completed</td>\n",
              "      <td>85</td>\n",
              "      <td>93</td>\n",
              "      <td>90</td>\n",
              "    </tr>\n",
              "  </tbody>\n",
              "</table>\n",
              "<p>409 rows × 8 columns</p>\n",
              "</div>"
            ],
            "text/plain": [
              "     gender race/ethnicity  ... reading score writing score\n",
              "19   female        group A  ...            80            68\n",
              "80     male        group A  ...            74            69\n",
              "98     male        group A  ...            48            35\n",
              "109    male        group A  ...            55            53\n",
              "128    male        group A  ...            97            94\n",
              "..      ...            ...  ...           ...           ...\n",
              "980    male        group E  ...            84            92\n",
              "982    male        group D  ...            82            84\n",
              "986  female        group B  ...            81            79\n",
              "991    male        group B  ...            76            80\n",
              "994    male        group C  ...            93            90\n",
              "\n",
              "[409 rows x 8 columns]"
            ]
          },
          "metadata": {
            "tags": []
          },
          "execution_count": 25
        }
      ]
    },
    {
      "cell_type": "code",
      "metadata": {
        "colab": {
          "base_uri": "https://localhost:8080/"
        },
        "id": "yczDtQbl-1FW",
        "outputId": "710a9530-071d-4a8c-c9dd-aa57d4c10ef2"
      },
      "source": [
        "concat_data[concat_data.duplicated()==True].count()\r\n"
      ],
      "execution_count": 32,
      "outputs": [
        {
          "output_type": "execute_result",
          "data": {
            "text/plain": [
              "gender                         21\n",
              "race/ethnicity                 21\n",
              "parental level of education    21\n",
              "lunch                          21\n",
              "test preparation course        21\n",
              "math score                     21\n",
              "reading score                  21\n",
              "writing score                  21\n",
              "dtype: int64"
            ]
          },
          "metadata": {
            "tags": []
          },
          "execution_count": 32
        }
      ]
    }
  ]
}